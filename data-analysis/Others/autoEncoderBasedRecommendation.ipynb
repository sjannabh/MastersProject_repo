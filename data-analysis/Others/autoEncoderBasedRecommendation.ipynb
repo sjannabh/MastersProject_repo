{
 "cells": [
  {
   "cell_type": "code",
   "execution_count": 2,
   "metadata": {},
   "outputs": [],
   "source": [
    "import pandas as pd\n",
    "import numpy as np\n",
    "import torch\n",
    "import torchvision\n",
    "from torch.utils.data import Dataset, DataLoader\n",
    "from torchvision import transforms, utils\n",
    "import matplotlib.pyplot as plt\n"
   ]
  },
  {
   "cell_type": "code",
   "execution_count": null,
   "metadata": {},
   "outputs": [],
   "source": [
    "def prepare_train_validation_movielens_step1():\n",
    "    rat = pd.read_csv('data/ratings.csv')\n",
    "    mov = pd.read_csv('data/movies.csv')\n",
    "    df_combined = pd.merge(rat, mov, on = 'movieId')\n",
    "    print(rat.describe())\n",
    "    ts = rat['timestamp'].quantile(0.98)\n",
    "    train_ratings = pd.DataFrame(columns=['userId','movieId','rating'])\n",
    "    validation_ratings = pd.DataFrame(columns=['userId','movieId','rating'])\n",
    "    for i in range(len(rat)):\n",
    "        if rat['timestamp'].iloc[i] <= ts:\n",
    "            train_ratings = pd.concat([train_ratings,pd.DataFrame([{'userId':rat['userId'].iloc[i],'movieId':rat\n",
    "            ['movieId'].iloc[i],'rating':rat['rating'].iloc[i]}])])\n",
    "            validation_ratings = pd.concat([validation_ratings,pd.DataFrame([{'userId':rat['userId'].iloc[i],'movieId':rat['movieId'].iloc[i],'rating':rat['rating'].iloc[i]}])])\n",
    "        else:\n",
    "            validation_ratings = pd.concat([validation_ratings,pd.DataFrame([{'userId':rat['userId'].iloc[i],'movieId':rat['movieId'].iloc[i],'rating':rat['rating'].iloc[i]}])])\n",
    "\n",
    "        if i%10000 == 0:\n",
    "            print(i, \"Completed\")\n",
    "        print(len(train_ratings))\n",
    "        print(len(validation_ratings))\n",
    "        # Remove users in validation set those are not present in Training Set\n",
    "        train_users = train_ratings['userId'].unique()\n",
    "        users_not_in_train_set = []\n",
    "        \n",
    "    for i in range(1,611):\n",
    "        if i in train_users:\n",
    "            continue\n",
    "        else:\n",
    "            users_not_in_train_set.append(i)\n",
    "    for i in users_not_in_train_set:\n",
    "        validation_ratings = validation_ratings[validation_ratings['userId']!=i]\n",
    "    validation_ratings.reset_index(drop=True)\n",
    "    print(len(train_ratings['movieId'].unique()))\n",
    "    print(len(validation_ratings['movieId'].unique()))\n",
    "    # Remove Movies that are not in the Train Set\n",
    "    validation_movies = validation_ratings['movieId'].unique()\n",
    "    train_movies = train_ratings['movieId'].unique()\n",
    "    movies_not_in_train_set = []\n",
    "\n"
   ]
  }
 ],
 "metadata": {
  "kernelspec": {
   "display_name": "base",
   "language": "python",
   "name": "python3"
  },
  "language_info": {
   "codemirror_mode": {
    "name": "ipython",
    "version": 3
   },
   "file_extension": ".py",
   "mimetype": "text/x-python",
   "name": "python",
   "nbconvert_exporter": "python",
   "pygments_lexer": "ipython3",
   "version": "3.11.5"
  }
 },
 "nbformat": 4,
 "nbformat_minor": 2
}
