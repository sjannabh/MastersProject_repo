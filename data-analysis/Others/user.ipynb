{
 "cells": [
  {
   "cell_type": "code",
   "execution_count": null,
   "metadata": {},
   "outputs": [],
   "source": [
    "import pandas as pd\n",
    "import numpy as np"
   ]
  },
  {
   "cell_type": "code",
   "execution_count": null,
   "metadata": {},
   "outputs": [],
   "source": [
    "# Column Names (['product_id', 'product_name', 'category', 'discounted_price', 'actual_price', 'discount_percentage', 'rating', 'rating_count', 'about_product', 'user_id', 'user_name', 'review_id', 'review_title', 'review_content', 'img_link', 'product_link'],  dtype='object')\n",
    "fullDataset = pd.read_csv(\"C:\\\\Repos\\\\MastersProject\\\\data-analysis\\\\Data\\\\amazon.csv\", delimiter=\",\")\n",
    "\n",
    "fullUserData = pd.read_csv(\"C:\\\\Repos\\\\MastersProject\\\\data-analysis\\\\Data\\\\userInfo.csv\", delimiter=\",\")"
   ]
  },
  {
   "cell_type": "code",
   "execution_count": null,
   "metadata": {},
   "outputs": [],
   "source": [
    "users_id_dataset = fullDataset[\n",
    "    [\n",
    "        \"user_id\"\n",
    "    ]\n",
    "]\n",
    "users_id_dataset[\"user_id\"] = users_id_dataset[\"user_id\"].str.split(\",\")\n",
    "users_json_dataset = users_id_dataset.to_dict(orient='records')\n",
    "\n",
    "userId_df = pd.DataFrame(columns = ['user_id'])\n",
    "\n",
    "for index, row in users_id_dataset.iterrows():\n",
    "    for itemData in row[\"user_id\"]:\n",
    "        userId_df.loc[len(userId_df)]=[itemData]\n",
    "        \n",
    "userId_df\n",
    "\n",
    "first_names=fullUserData[\"fname\"].tolist()\n",
    "last_names=fullUserData[\"lname\"].tolist()\n",
    "phoneNo=fullUserData[\"phoneNo\"].tolist()\n",
    "\n",
    "userId_df[\"fname\"] = np.random.choice(first_names, size=len(userId_df))\n",
    "userId_df[\"lname\"] = np.random.choice(last_names, size=len(userId_df))\n",
    "userId_df[\"phoneNo\"] = np.random.choice(phoneNo, size=len(userId_df))\n",
    "userId_df[\"email\"] = userId_df[\"fname\"] + '.' + userId_df[\"lname\"] + '@ecommerce.com'\n",
    "userId_df[\"password\"] = userId_df[\"fname\"] + '@1234'\n",
    "\n",
    "\n",
    "users_json_dataset = userId_df.to_dict(orient='records')\n",
    "\n",
    "# Print\n",
    "users_json_dataset"
   ]
  },
  {
   "cell_type": "code",
   "execution_count": null,
   "metadata": {},
   "outputs": [],
   "source": [
    "userId_df"
   ]
  },
  {
   "cell_type": "code",
   "execution_count": null,
   "metadata": {},
   "outputs": [],
   "source": [
    "userId_df.drop_duplicates(subset=['user_id'], inplace=True)"
   ]
  },
  {
   "cell_type": "code",
   "execution_count": null,
   "metadata": {},
   "outputs": [],
   "source": [
    "len(userId_df)"
   ]
  }
 ],
 "metadata": {
  "kernelspec": {
   "display_name": "base",
   "language": "python",
   "name": "python3"
  },
  "language_info": {
   "codemirror_mode": {
    "name": "ipython",
    "version": 3
   },
   "file_extension": ".py",
   "mimetype": "text/x-python",
   "name": "python",
   "nbconvert_exporter": "python",
   "pygments_lexer": "ipython3",
   "version": "3.11.5"
  }
 },
 "nbformat": 4,
 "nbformat_minor": 2
}
